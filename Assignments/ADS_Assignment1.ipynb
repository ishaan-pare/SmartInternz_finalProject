{
 "cells": [
  {
   "cell_type": "code",
   "execution_count": 2,
   "id": "fe30853e",
   "metadata": {},
   "outputs": [],
   "source": [
    "# 1. Assign your Name to variable name and Age to variable age. Make a Python program that prints your name and age."
   ]
  },
  {
   "cell_type": "code",
   "execution_count": 6,
   "id": "b87b0db8",
   "metadata": {},
   "outputs": [
    {
     "name": "stdout",
     "output_type": "stream",
     "text": [
      "Name: Ishaan Pare, Age: 20\n"
     ]
    }
   ],
   "source": [
    "name = \"Ishaan Pare\"\n",
    "age = 20\n",
    "\n",
    "print(f\"Name: {name}, Age: {age}\")"
   ]
  },
  {
   "cell_type": "code",
   "execution_count": 7,
   "id": "9c2b20ce",
   "metadata": {},
   "outputs": [],
   "source": [
    "# 2. X=\"Datascience is used to extract meaningful insights.\" Split the string"
   ]
  },
  {
   "cell_type": "code",
   "execution_count": 8,
   "id": "63550371",
   "metadata": {},
   "outputs": [
    {
     "name": "stdout",
     "output_type": "stream",
     "text": [
      "['Datascience', 'is', 'used', 'to', 'extract', 'meaningful', 'insights.']\n"
     ]
    }
   ],
   "source": [
    "X = \"Datascience is used to extract meaningful insights.\"\n",
    "\n",
    "arr = X.split(\" \")\n",
    "print(arr)"
   ]
  },
  {
   "cell_type": "code",
   "execution_count": null,
   "id": "73a4e92a",
   "metadata": {},
   "outputs": [],
   "source": [
    "# 3. Make a function that gives multiplication of two numbers"
   ]
  },
  {
   "cell_type": "code",
   "execution_count": 9,
   "id": "a8424e29",
   "metadata": {},
   "outputs": [
    {
     "name": "stdout",
     "output_type": "stream",
     "text": [
      "1802\n"
     ]
    }
   ],
   "source": [
    "def multiply(a, b):\n",
    "    return a*b\n",
    "\n",
    "print(multiply(53,34))"
   ]
  },
  {
   "cell_type": "code",
   "execution_count": 10,
   "id": "b18e89b6",
   "metadata": {},
   "outputs": [],
   "source": [
    "# 4. Create a Dictionary of 5 States with their capitals. also print the keys and values."
   ]
  },
  {
   "cell_type": "code",
   "execution_count": 12,
   "id": "90f2b4c3",
   "metadata": {},
   "outputs": [
    {
     "name": "stdout",
     "output_type": "stream",
     "text": [
      "dict_keys(['Tamil Nadu', 'Karnataka', 'Uttrakhand', 'Madhya Prades', 'Arunachal Pradesh'])\n",
      "dict_values(['Chennai', 'Bangaluru', 'Dehradun', 'Bhopal', 'Itanagar'])\n"
     ]
    }
   ],
   "source": [
    "data = {\"Tamil Nadu\": \"Chennai\", \"Karnataka\": \"Bangaluru\", \"Uttrakhand\": \"Dehradun\", \"Madhya Prades\": \"Bhopal\", \"Arunachal Pradesh\": \"Itanagar\"}\n",
    "\n",
    "print(data.keys())\n",
    "print(data.values())"
   ]
  },
  {
   "cell_type": "code",
   "execution_count": 13,
   "id": "6568314a",
   "metadata": {},
   "outputs": [],
   "source": [
    "# 5. Create a list of 1000 numbers using range function."
   ]
  },
  {
   "cell_type": "code",
   "execution_count": 20,
   "id": "f1a0d6b0",
   "metadata": {},
   "outputs": [
    {
     "name": "stdout",
     "output_type": "stream",
     "text": [
      "0 1 2 3 4 5 6 7 8 9 10 11 12 13 14 15 16 17 18 19 .... 999\n"
     ]
    }
   ],
   "source": [
    "num = [int(x) for x in range(1000)]\n",
    "print(\" \".join([str(x) for x in num[:20]]),\".... 999\")"
   ]
  },
  {
   "cell_type": "code",
   "execution_count": 21,
   "id": "c6b8428e",
   "metadata": {},
   "outputs": [],
   "source": [
    "# 6. Create an identity matrix of dimension 4 by 4"
   ]
  },
  {
   "cell_type": "code",
   "execution_count": 34,
   "id": "5bdbd1af",
   "metadata": {},
   "outputs": [],
   "source": [
    "import numpy as np"
   ]
  },
  {
   "cell_type": "code",
   "execution_count": 39,
   "id": "483506b1",
   "metadata": {},
   "outputs": [
    {
     "data": {
      "text/plain": [
       "array([[1., 0., 0., 0.],\n",
       "       [0., 1., 0., 0.],\n",
       "       [0., 0., 1., 0.],\n",
       "       [0., 0., 0., 1.]])"
      ]
     },
     "execution_count": 39,
     "metadata": {},
     "output_type": "execute_result"
    }
   ],
   "source": [
    "np.identity(4)"
   ]
  },
  {
   "cell_type": "code",
   "execution_count": 40,
   "id": "97700503",
   "metadata": {},
   "outputs": [],
   "source": [
    "# 7. Create a 3x3 matrix with values ranging from 1 to 9"
   ]
  },
  {
   "cell_type": "code",
   "execution_count": 47,
   "id": "7b049e86",
   "metadata": {},
   "outputs": [
    {
     "data": {
      "text/plain": [
       "array([[1, 2, 3],\n",
       "       [4, 5, 6],\n",
       "       [7, 8, 9]])"
      ]
     },
     "execution_count": 47,
     "metadata": {},
     "output_type": "execute_result"
    }
   ],
   "source": [
    "np.arange(1,10).reshape((3,3))"
   ]
  },
  {
   "cell_type": "code",
   "execution_count": 48,
   "id": "a0a09da7",
   "metadata": {},
   "outputs": [],
   "source": [
    "# 8. Create 2 similar dimensional array and perform sum on them."
   ]
  },
  {
   "cell_type": "code",
   "execution_count": 52,
   "id": "1a635cfe",
   "metadata": {},
   "outputs": [
    {
     "data": {
      "text/plain": [
       "array([[13, 15, 17, 19, 21],\n",
       "       [23, 25, 27, 29, 31]])"
      ]
     },
     "execution_count": 52,
     "metadata": {},
     "output_type": "execute_result"
    }
   ],
   "source": [
    "arr1 = np.arange(1,11).reshape((2,5))\n",
    "arr2 = np.arange(12,22).reshape((2,5))\n",
    "arr1+arr2"
   ]
  },
  {
   "cell_type": "code",
   "execution_count": 53,
   "id": "4066d8c1",
   "metadata": {},
   "outputs": [],
   "source": [
    "# 9. Generate the series of dates from 1st Feb, 2023 to 1st March, 2023 (both inclusive)"
   ]
  },
  {
   "cell_type": "code",
   "execution_count": 16,
   "id": "3126416d",
   "metadata": {},
   "outputs": [
    {
     "name": "stdout",
     "output_type": "stream",
     "text": [
      "DatetimeIndex(['2023-02-01', '2023-02-02', '2023-02-03', '2023-02-04',\n",
      "               '2023-02-05', '2023-02-06', '2023-02-07', '2023-02-08',\n",
      "               '2023-02-09', '2023-02-10', '2023-02-11', '2023-02-12',\n",
      "               '2023-02-13', '2023-02-14', '2023-02-15', '2023-02-16',\n",
      "               '2023-02-17', '2023-02-18', '2023-02-19', '2023-02-20',\n",
      "               '2023-02-21', '2023-02-22', '2023-02-23', '2023-02-24',\n",
      "               '2023-02-25', '2023-02-26', '2023-02-27', '2023-02-28',\n",
      "               '2023-03-01'],\n",
      "              dtype='datetime64[ns]', freq='D')\n"
     ]
    }
   ],
   "source": [
    "import pandas as pd\n",
    "\n",
    "dt1 = pd.date_range(\"2023-02-01\", \"2023-03-01\")\n",
    "print(dt1)"
   ]
  },
  {
   "cell_type": "code",
   "execution_count": 55,
   "id": "c76e5409",
   "metadata": {},
   "outputs": [],
   "source": [
    "# 10. Given a dictionary, convert it into corresponding dataframe and display it dictionary = {'Brand': ['Maruti', 'Renault', 'Hyndai'], 'Sales' : [250, 200, 240]}"
   ]
  },
  {
   "cell_type": "code",
   "execution_count": 19,
   "id": "b8d78520",
   "metadata": {},
   "outputs": [
    {
     "data": {
      "text/html": [
       "<div>\n",
       "<style scoped>\n",
       "    .dataframe tbody tr th:only-of-type {\n",
       "        vertical-align: middle;\n",
       "    }\n",
       "\n",
       "    .dataframe tbody tr th {\n",
       "        vertical-align: top;\n",
       "    }\n",
       "\n",
       "    .dataframe thead th {\n",
       "        text-align: right;\n",
       "    }\n",
       "</style>\n",
       "<table border=\"1\" class=\"dataframe\">\n",
       "  <thead>\n",
       "    <tr style=\"text-align: right;\">\n",
       "      <th></th>\n",
       "      <th>Brand</th>\n",
       "      <th>Sales</th>\n",
       "    </tr>\n",
       "  </thead>\n",
       "  <tbody>\n",
       "    <tr>\n",
       "      <th>0</th>\n",
       "      <td>Maruti</td>\n",
       "      <td>250</td>\n",
       "    </tr>\n",
       "    <tr>\n",
       "      <th>1</th>\n",
       "      <td>Renault</td>\n",
       "      <td>200</td>\n",
       "    </tr>\n",
       "    <tr>\n",
       "      <th>2</th>\n",
       "      <td>Hyndai</td>\n",
       "      <td>240</td>\n",
       "    </tr>\n",
       "  </tbody>\n",
       "</table>\n",
       "</div>"
      ],
      "text/plain": [
       "     Brand  Sales\n",
       "0   Maruti    250\n",
       "1  Renault    200\n",
       "2   Hyndai    240"
      ]
     },
     "execution_count": 19,
     "metadata": {},
     "output_type": "execute_result"
    }
   ],
   "source": [
    "dictionary = {'Brand': ['Maruti', 'Renault', 'Hyndai'], 'Sales' : [250, 200, 240]}\n",
    "\n",
    "df = pd.DataFrame(dictionary)\n",
    "df"
   ]
  }
 ],
 "metadata": {
  "kernelspec": {
   "display_name": "env",
   "language": "python",
   "name": "env"
  },
  "language_info": {
   "codemirror_mode": {
    "name": "ipython",
    "version": 3
   },
   "file_extension": ".py",
   "mimetype": "text/x-python",
   "name": "python",
   "nbconvert_exporter": "python",
   "pygments_lexer": "ipython3",
   "version": "3.11.0"
  }
 },
 "nbformat": 4,
 "nbformat_minor": 5
}
